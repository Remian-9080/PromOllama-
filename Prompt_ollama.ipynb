{
  "cells": [
    {
      "cell_type": "markdown",
      "source": [
        "#Installing Ollama in Local machine and Creating a promt to become a tour guide"
      ],
      "metadata": {
        "id": "ipFK4ObG58JE"
      }
    },
    {
      "cell_type": "markdown",
      "source": [
        "Install ollama and langchain Community!"
      ],
      "metadata": {
        "id": "D8gFo8Tq553Q"
      }
    },
    {
      "cell_type": "code",
      "execution_count": null,
      "metadata": {
        "id": "mrIw6dzfixGB"
      },
      "outputs": [],
      "source": [
        "!pip install -qU langchain-ollama"
      ]
    },
    {
      "cell_type": "code",
      "source": [
        "!pip install langchain_community"
      ],
      "metadata": {
        "collapsed": true,
        "colab": {
          "base_uri": "https://localhost:8080/"
        },
        "id": "TxoyDS6w8eWr",
        "outputId": "7d93cb48-aef3-4f69-c092-e53c3d7752ce"
      },
      "execution_count": null,
      "outputs": [
        {
          "output_type": "stream",
          "name": "stdout",
          "text": [
            "Requirement already satisfied: langchain_community in c:\\users\\rakib hasan\\anaconda3\\lib\\site-packages (0.3.2)\n",
            "Requirement already satisfied: numpy<2,>=1 in c:\\users\\rakib hasan\\anaconda3\\lib\\site-packages (from langchain_community) (1.21.5)\n",
            "Requirement already satisfied: dataclasses-json<0.7,>=0.5.7 in c:\\users\\rakib hasan\\anaconda3\\lib\\site-packages (from langchain_community) (0.6.7)\n",
            "Requirement already satisfied: aiohttp<4.0.0,>=3.8.3 in c:\\users\\rakib hasan\\anaconda3\\lib\\site-packages (from langchain_community) (3.10.10)\n",
            "Requirement already satisfied: langchain-core<0.4.0,>=0.3.10 in c:\\users\\rakib hasan\\anaconda3\\lib\\site-packages (from langchain_community) (0.3.10)\n",
            "Requirement already satisfied: tenacity!=8.4.0,<9.0.0,>=8.1.0 in c:\\users\\rakib hasan\\anaconda3\\lib\\site-packages (from langchain_community) (8.5.0)\n",
            "Requirement already satisfied: SQLAlchemy<3,>=1.4 in c:\\users\\rakib hasan\\anaconda3\\lib\\site-packages (from langchain_community) (2.0.35)\n",
            "Requirement already satisfied: PyYAML>=5.3 in c:\\users\\rakib hasan\\anaconda3\\lib\\site-packages (from langchain_community) (6.0.2)\n",
            "Requirement already satisfied: langsmith<0.2.0,>=0.1.125 in c:\\users\\rakib hasan\\anaconda3\\lib\\site-packages (from langchain_community) (0.1.134)\n",
            "Requirement already satisfied: pydantic-settings<3.0.0,>=2.4.0 in c:\\users\\rakib hasan\\anaconda3\\lib\\site-packages (from langchain_community) (2.5.2)\n",
            "Requirement already satisfied: langchain<0.4.0,>=0.3.3 in c:\\users\\rakib hasan\\anaconda3\\lib\\site-packages (from langchain_community) (0.3.3)\n",
            "Requirement already satisfied: requests<3,>=2 in c:\\users\\rakib hasan\\anaconda3\\lib\\site-packages (from langchain_community) (2.32.3)\n",
            "Requirement already satisfied: aiohappyeyeballs>=2.3.0 in c:\\users\\rakib hasan\\anaconda3\\lib\\site-packages (from aiohttp<4.0.0,>=3.8.3->langchain_community) (2.4.3)\n",
            "Requirement already satisfied: aiosignal>=1.1.2 in c:\\users\\rakib hasan\\anaconda3\\lib\\site-packages (from aiohttp<4.0.0,>=3.8.3->langchain_community) (1.2.0)\n",
            "Requirement already satisfied: multidict<7.0,>=4.5 in c:\\users\\rakib hasan\\anaconda3\\lib\\site-packages (from aiohttp<4.0.0,>=3.8.3->langchain_community) (5.1.0)\n",
            "Requirement already satisfied: async-timeout<5.0,>=4.0 in c:\\users\\rakib hasan\\anaconda3\\lib\\site-packages (from aiohttp<4.0.0,>=3.8.3->langchain_community) (4.0.1)\n",
            "Requirement already satisfied: attrs>=17.3.0 in c:\\users\\rakib hasan\\anaconda3\\lib\\site-packages (from aiohttp<4.0.0,>=3.8.3->langchain_community) (21.4.0)\n",
            "Requirement already satisfied: yarl<2.0,>=1.12.0 in c:\\users\\rakib hasan\\anaconda3\\lib\\site-packages (from aiohttp<4.0.0,>=3.8.3->langchain_community) (1.15.0)\n",
            "Requirement already satisfied: frozenlist>=1.1.1 in c:\\users\\rakib hasan\\anaconda3\\lib\\site-packages (from aiohttp<4.0.0,>=3.8.3->langchain_community) (1.2.0)\n",
            "Requirement already satisfied: typing-extensions>=3.6.5 in c:\\users\\rakib hasan\\anaconda3\\lib\\site-packages (from async-timeout<5.0,>=4.0->aiohttp<4.0.0,>=3.8.3->langchain_community) (4.12.2)\n",
            "Requirement already satisfied: typing-inspect<1,>=0.4.0 in c:\\users\\rakib hasan\\anaconda3\\lib\\site-packages (from dataclasses-json<0.7,>=0.5.7->langchain_community) (0.9.0)\n",
            "Requirement already satisfied: marshmallow<4.0.0,>=3.18.0 in c:\\users\\rakib hasan\\anaconda3\\lib\\site-packages (from dataclasses-json<0.7,>=0.5.7->langchain_community) (3.22.0)\n",
            "Requirement already satisfied: langchain-text-splitters<0.4.0,>=0.3.0 in c:\\users\\rakib hasan\\anaconda3\\lib\\site-packages (from langchain<0.4.0,>=0.3.3->langchain_community) (0.3.0)\n",
            "Requirement already satisfied: pydantic<3.0.0,>=2.7.4 in c:\\users\\rakib hasan\\anaconda3\\lib\\site-packages (from langchain<0.4.0,>=0.3.3->langchain_community) (2.9.2)\n",
            "Requirement already satisfied: packaging<25,>=23.2 in c:\\users\\rakib hasan\\anaconda3\\lib\\site-packages (from langchain-core<0.4.0,>=0.3.10->langchain_community) (24.1)\n",
            "Requirement already satisfied: jsonpatch<2.0,>=1.33 in c:\\users\\rakib hasan\\anaconda3\\lib\\site-packages (from langchain-core<0.4.0,>=0.3.10->langchain_community) (1.33)\n",
            "Requirement already satisfied: jsonpointer>=1.9 in c:\\users\\rakib hasan\\anaconda3\\lib\\site-packages (from jsonpatch<2.0,>=1.33->langchain-core<0.4.0,>=0.3.10->langchain_community) (3.0.0)\n",
            "Requirement already satisfied: requests-toolbelt<2.0.0,>=1.0.0 in c:\\users\\rakib hasan\\anaconda3\\lib\\site-packages (from langsmith<0.2.0,>=0.1.125->langchain_community) (1.0.0)\n",
            "Requirement already satisfied: orjson<4.0.0,>=3.9.14 in c:\\users\\rakib hasan\\anaconda3\\lib\\site-packages (from langsmith<0.2.0,>=0.1.125->langchain_community) (3.10.7)\n",
            "Requirement already satisfied: httpx<1,>=0.23.0 in c:\\users\\rakib hasan\\anaconda3\\lib\\site-packages (from langsmith<0.2.0,>=0.1.125->langchain_community) (0.27.2)\n",
            "Requirement already satisfied: certifi in c:\\users\\rakib hasan\\anaconda3\\lib\\site-packages (from httpx<1,>=0.23.0->langsmith<0.2.0,>=0.1.125->langchain_community) (2021.10.8)\n",
            "Requirement already satisfied: sniffio in c:\\users\\rakib hasan\\anaconda3\\lib\\site-packages (from httpx<1,>=0.23.0->langsmith<0.2.0,>=0.1.125->langchain_community) (1.2.0)\n",
            "Requirement already satisfied: httpcore==1.* in c:\\users\\rakib hasan\\anaconda3\\lib\\site-packages (from httpx<1,>=0.23.0->langsmith<0.2.0,>=0.1.125->langchain_community) (1.0.6)\n",
            "Requirement already satisfied: idna in c:\\users\\rakib hasan\\anaconda3\\lib\\site-packages (from httpx<1,>=0.23.0->langsmith<0.2.0,>=0.1.125->langchain_community) (3.3)\n",
            "Requirement already satisfied: anyio in c:\\users\\rakib hasan\\anaconda3\\lib\\site-packages (from httpx<1,>=0.23.0->langsmith<0.2.0,>=0.1.125->langchain_community) (3.5.0)\n",
            "Requirement already satisfied: h11<0.15,>=0.13 in c:\\users\\rakib hasan\\anaconda3\\lib\\site-packages (from httpcore==1.*->httpx<1,>=0.23.0->langsmith<0.2.0,>=0.1.125->langchain_community) (0.14.0)\n",
            "Requirement already satisfied: pydantic-core==2.23.4 in c:\\users\\rakib hasan\\anaconda3\\lib\\site-packages (from pydantic<3.0.0,>=2.7.4->langchain<0.4.0,>=0.3.3->langchain_community) (2.23.4)\n",
            "Requirement already satisfied: annotated-types>=0.6.0 in c:\\users\\rakib hasan\\anaconda3\\lib\\site-packages (from pydantic<3.0.0,>=2.7.4->langchain<0.4.0,>=0.3.3->langchain_community) (0.7.0)\n",
            "Requirement already satisfied: python-dotenv>=0.21.0 in c:\\users\\rakib hasan\\anaconda3\\lib\\site-packages (from pydantic-settings<3.0.0,>=2.4.0->langchain_community) (1.0.1)\n",
            "Requirement already satisfied: urllib3<3,>=1.21.1 in c:\\users\\rakib hasan\\anaconda3\\lib\\site-packages (from requests<3,>=2->langchain_community) (1.26.9)\n",
            "Requirement already satisfied: charset-normalizer<4,>=2 in c:\\users\\rakib hasan\\anaconda3\\lib\\site-packages (from requests<3,>=2->langchain_community) (2.0.4)\n",
            "Requirement already satisfied: greenlet!=0.4.17 in c:\\users\\rakib hasan\\anaconda3\\lib\\site-packages (from SQLAlchemy<3,>=1.4->langchain_community) (1.1.1)\n",
            "Requirement already satisfied: mypy-extensions>=0.3.0 in c:\\users\\rakib hasan\\anaconda3\\lib\\site-packages (from typing-inspect<1,>=0.4.0->dataclasses-json<0.7,>=0.5.7->langchain_community) (0.4.3)\n",
            "Requirement already satisfied: propcache>=0.2.0 in c:\\users\\rakib hasan\\anaconda3\\lib\\site-packages (from yarl<2.0,>=1.12.0->aiohttp<4.0.0,>=3.8.3->langchain_community) (0.2.0)\n"
          ]
        }
      ]
    },
    {
      "cell_type": "code",
      "execution_count": null,
      "metadata": {
        "colab": {
          "base_uri": "https://localhost:8080/"
        },
        "collapsed": true,
        "id": "tAXy1mmW-B0U",
        "outputId": "5cec8517-2ecb-4be6-8fb8-1f01bf63925b"
      },
      "outputs": [
        {
          "output_type": "stream",
          "name": "stdout",
          "text": [
            "Requirement already satisfied: llama-index in c:\\users\\rakib hasan\\anaconda3\\lib\\site-packages (0.11.17)\n",
            "Requirement already satisfied: transformers in c:\\users\\rakib hasan\\anaconda3\\lib\\site-packages (4.45.2)\n",
            "Requirement already satisfied: accelerate in c:\\users\\rakib hasan\\anaconda3\\lib\\site-packages (1.0.1)\n",
            "Requirement already satisfied: bitsandbytes in c:\\users\\rakib hasan\\anaconda3\\lib\\site-packages (0.44.1)\n",
            "Requirement already satisfied: pypdf in c:\\users\\rakib hasan\\anaconda3\\lib\\site-packages (4.3.1)\n",
            "Requirement already satisfied: llama-index-embeddings-openai<0.3.0,>=0.2.4 in c:\\users\\rakib hasan\\anaconda3\\lib\\site-packages (from llama-index) (0.2.5)\n",
            "Requirement already satisfied: llama-index-core<0.12.0,>=0.11.17 in c:\\users\\rakib hasan\\anaconda3\\lib\\site-packages (from llama-index) (0.11.17)\n",
            "Requirement already satisfied: llama-index-llms-openai<0.3.0,>=0.2.10 in c:\\users\\rakib hasan\\anaconda3\\lib\\site-packages (from llama-index) (0.2.13)\n",
            "Requirement already satisfied: llama-index-legacy<0.10.0,>=0.9.48 in c:\\users\\rakib hasan\\anaconda3\\lib\\site-packages (from llama-index) (0.9.48.post3)\n",
            "Requirement already satisfied: llama-index-program-openai<0.3.0,>=0.2.0 in c:\\users\\rakib hasan\\anaconda3\\lib\\site-packages (from llama-index) (0.2.0)\n",
            "Requirement already satisfied: nltk>3.8.1 in c:\\users\\rakib hasan\\anaconda3\\lib\\site-packages (from llama-index) (3.9.1)\n",
            "Requirement already satisfied: llama-index-question-gen-openai<0.3.0,>=0.2.0 in c:\\users\\rakib hasan\\anaconda3\\lib\\site-packages (from llama-index) (0.2.0)\n",
            "Requirement already satisfied: llama-index-readers-llama-parse>=0.3.0 in c:\\users\\rakib hasan\\anaconda3\\lib\\site-packages (from llama-index) (0.3.0)\n",
            "Requirement already satisfied: llama-index-cli<0.4.0,>=0.3.1 in c:\\users\\rakib hasan\\anaconda3\\lib\\site-packages (from llama-index) (0.3.1)\n",
            "Requirement already satisfied: llama-index-agent-openai<0.4.0,>=0.3.4 in c:\\users\\rakib hasan\\anaconda3\\lib\\site-packages (from llama-index) (0.3.4)\n",
            "Requirement already satisfied: llama-index-readers-file<0.3.0,>=0.2.0 in c:\\users\\rakib hasan\\anaconda3\\lib\\site-packages (from llama-index) (0.2.2)\n",
            "Requirement already satisfied: llama-index-indices-managed-llama-cloud>=0.3.0 in c:\\users\\rakib hasan\\anaconda3\\lib\\site-packages (from llama-index) (0.4.0)\n",
            "Requirement already satisfied: llama-index-multi-modal-llms-openai<0.3.0,>=0.2.0 in c:\\users\\rakib hasan\\anaconda3\\lib\\site-packages (from llama-index) (0.2.2)\n",
            "Requirement already satisfied: safetensors>=0.4.1 in c:\\users\\rakib hasan\\anaconda3\\lib\\site-packages (from transformers) (0.4.5)\n",
            "Requirement already satisfied: requests in c:\\users\\rakib hasan\\anaconda3\\lib\\site-packages (from transformers) (2.32.3)\n",
            "Requirement already satisfied: huggingface-hub<1.0,>=0.23.2 in c:\\users\\rakib hasan\\anaconda3\\lib\\site-packages (from transformers) (0.25.2)\n",
            "Requirement already satisfied: tokenizers<0.21,>=0.20 in c:\\users\\rakib hasan\\anaconda3\\lib\\site-packages (from transformers) (0.20.1)\n",
            "Requirement already satisfied: tqdm>=4.27 in c:\\users\\rakib hasan\\anaconda3\\lib\\site-packages (from transformers) (4.66.5)\n",
            "Requirement already satisfied: numpy>=1.17 in c:\\users\\rakib hasan\\anaconda3\\lib\\site-packages (from transformers) (1.21.5)\n",
            "Requirement already satisfied: regex!=2019.12.17 in c:\\users\\rakib hasan\\anaconda3\\lib\\site-packages (from transformers) (2022.3.15)\n",
            "Requirement already satisfied: filelock in c:\\users\\rakib hasan\\anaconda3\\lib\\site-packages (from transformers) (3.6.0)\n",
            "Requirement already satisfied: pyyaml>=5.1 in c:\\users\\rakib hasan\\anaconda3\\lib\\site-packages (from transformers) (6.0.2)\n",
            "Requirement already satisfied: packaging>=20.0 in c:\\users\\rakib hasan\\anaconda3\\lib\\site-packages (from transformers) (24.1)\n",
            "Requirement already satisfied: torch>=1.10.0 in c:\\users\\rakib hasan\\anaconda3\\lib\\site-packages (from accelerate) (2.4.1)\n",
            "Requirement already satisfied: psutil in c:\\users\\rakib hasan\\anaconda3\\lib\\site-packages (from accelerate) (5.8.0)\n",
            "Requirement already satisfied: typing_extensions>=4.0 in c:\\users\\rakib hasan\\anaconda3\\lib\\site-packages (from pypdf) (4.12.2)\n",
            "Requirement already satisfied: fsspec>=2023.5.0 in c:\\users\\rakib hasan\\anaconda3\\lib\\site-packages (from huggingface-hub<1.0,>=0.23.2->transformers) (2024.9.0)\n",
            "Requirement already satisfied: openai>=1.14.0 in c:\\users\\rakib hasan\\anaconda3\\lib\\site-packages (from llama-index-agent-openai<0.4.0,>=0.3.4->llama-index) (1.51.2)\n",
            "Requirement already satisfied: networkx>=3.0 in c:\\users\\rakib hasan\\anaconda3\\lib\\site-packages (from llama-index-core<0.12.0,>=0.11.17->llama-index) (3.2.1)\n",
            "Requirement already satisfied: pillow>=9.0.0 in c:\\users\\rakib hasan\\anaconda3\\lib\\site-packages (from llama-index-core<0.12.0,>=0.11.17->llama-index) (9.0.1)\n",
            "Requirement already satisfied: SQLAlchemy[asyncio]>=1.4.49 in c:\\users\\rakib hasan\\anaconda3\\lib\\site-packages (from llama-index-core<0.12.0,>=0.11.17->llama-index) (2.0.35)\n",
            "Requirement already satisfied: typing-inspect>=0.8.0 in c:\\users\\rakib hasan\\anaconda3\\lib\\site-packages (from llama-index-core<0.12.0,>=0.11.17->llama-index) (0.9.0)\n",
            "Requirement already satisfied: httpx in c:\\users\\rakib hasan\\anaconda3\\lib\\site-packages (from llama-index-core<0.12.0,>=0.11.17->llama-index) (0.27.2)\n",
            "Requirement already satisfied: pydantic<3.0.0,>=2.7.0 in c:\\users\\rakib hasan\\anaconda3\\lib\\site-packages (from llama-index-core<0.12.0,>=0.11.17->llama-index) (2.9.2)\n",
            "Requirement already satisfied: dataclasses-json in c:\\users\\rakib hasan\\anaconda3\\lib\\site-packages (from llama-index-core<0.12.0,>=0.11.17->llama-index) (0.6.7)\n",
            "Requirement already satisfied: wrapt in c:\\users\\rakib hasan\\anaconda3\\lib\\site-packages (from llama-index-core<0.12.0,>=0.11.17->llama-index) (1.12.1)\n",
            "Requirement already satisfied: aiohttp<4.0.0,>=3.8.6 in c:\\users\\rakib hasan\\anaconda3\\lib\\site-packages (from llama-index-core<0.12.0,>=0.11.17->llama-index) (3.10.10)\n",
            "Requirement already satisfied: tiktoken>=0.3.3 in c:\\users\\rakib hasan\\anaconda3\\lib\\site-packages (from llama-index-core<0.12.0,>=0.11.17->llama-index) (0.8.0)\n",
            "Requirement already satisfied: tenacity!=8.4.0,<9.0.0,>=8.2.0 in c:\\users\\rakib hasan\\anaconda3\\lib\\site-packages (from llama-index-core<0.12.0,>=0.11.17->llama-index) (8.5.0)\n",
            "Requirement already satisfied: nest-asyncio<2.0.0,>=1.5.8 in c:\\users\\rakib hasan\\anaconda3\\lib\\site-packages (from llama-index-core<0.12.0,>=0.11.17->llama-index) (1.6.0)\n",
            "Requirement already satisfied: dirtyjson<2.0.0,>=1.0.8 in c:\\users\\rakib hasan\\anaconda3\\lib\\site-packages (from llama-index-core<0.12.0,>=0.11.17->llama-index) (1.0.8)\n",
            "Requirement already satisfied: deprecated>=1.2.9.3 in c:\\users\\rakib hasan\\anaconda3\\lib\\site-packages (from llama-index-core<0.12.0,>=0.11.17->llama-index) (1.2.14)\n",
            "Requirement already satisfied: attrs>=17.3.0 in c:\\users\\rakib hasan\\anaconda3\\lib\\site-packages (from aiohttp<4.0.0,>=3.8.6->llama-index-core<0.12.0,>=0.11.17->llama-index) (21.4.0)\n",
            "Requirement already satisfied: async-timeout<5.0,>=4.0 in c:\\users\\rakib hasan\\anaconda3\\lib\\site-packages (from aiohttp<4.0.0,>=3.8.6->llama-index-core<0.12.0,>=0.11.17->llama-index) (4.0.1)\n",
            "Requirement already satisfied: aiohappyeyeballs>=2.3.0 in c:\\users\\rakib hasan\\anaconda3\\lib\\site-packages (from aiohttp<4.0.0,>=3.8.6->llama-index-core<0.12.0,>=0.11.17->llama-index) (2.4.3)\n",
            "Requirement already satisfied: frozenlist>=1.1.1 in c:\\users\\rakib hasan\\anaconda3\\lib\\site-packages (from aiohttp<4.0.0,>=3.8.6->llama-index-core<0.12.0,>=0.11.17->llama-index) (1.2.0)\n",
            "Requirement already satisfied: aiosignal>=1.1.2 in c:\\users\\rakib hasan\\anaconda3\\lib\\site-packages (from aiohttp<4.0.0,>=3.8.6->llama-index-core<0.12.0,>=0.11.17->llama-index) (1.2.0)\n",
            "Requirement already satisfied: multidict<7.0,>=4.5 in c:\\users\\rakib hasan\\anaconda3\\lib\\site-packages (from aiohttp<4.0.0,>=3.8.6->llama-index-core<0.12.0,>=0.11.17->llama-index) (5.1.0)\n",
            "Requirement already satisfied: yarl<2.0,>=1.12.0 in c:\\users\\rakib hasan\\anaconda3\\lib\\site-packages (from aiohttp<4.0.0,>=3.8.6->llama-index-core<0.12.0,>=0.11.17->llama-index) (1.15.0)\n",
            "Requirement already satisfied: llama-cloud>=0.0.11 in c:\\users\\rakib hasan\\anaconda3\\lib\\site-packages (from llama-index-indices-managed-llama-cloud>=0.3.0->llama-index) (0.1.2)\n",
            "Requirement already satisfied: sniffio in c:\\users\\rakib hasan\\anaconda3\\lib\\site-packages (from httpx->llama-index-core<0.12.0,>=0.11.17->llama-index) (1.2.0)\n",
            "Requirement already satisfied: anyio in c:\\users\\rakib hasan\\anaconda3\\lib\\site-packages (from httpx->llama-index-core<0.12.0,>=0.11.17->llama-index) (3.5.0)\n",
            "Requirement already satisfied: httpcore==1.* in c:\\users\\rakib hasan\\anaconda3\\lib\\site-packages (from httpx->llama-index-core<0.12.0,>=0.11.17->llama-index) (1.0.6)\n",
            "Requirement already satisfied: certifi in c:\\users\\rakib hasan\\anaconda3\\lib\\site-packages (from httpx->llama-index-core<0.12.0,>=0.11.17->llama-index) (2021.10.8)\n",
            "Requirement already satisfied: idna in c:\\users\\rakib hasan\\anaconda3\\lib\\site-packages (from httpx->llama-index-core<0.12.0,>=0.11.17->llama-index) (3.3)\n",
            "Requirement already satisfied: h11<0.15,>=0.13 in c:\\users\\rakib hasan\\anaconda3\\lib\\site-packages (from httpcore==1.*->httpx->llama-index-core<0.12.0,>=0.11.17->llama-index) (0.14.0)\n",
            "Requirement already satisfied: pandas in c:\\users\\rakib hasan\\anaconda3\\lib\\site-packages (from llama-index-legacy<0.10.0,>=0.9.48->llama-index) (1.4.2)\n",
            "Requirement already satisfied: beautifulsoup4<5.0.0,>=4.12.3 in c:\\users\\rakib hasan\\anaconda3\\lib\\site-packages (from llama-index-readers-file<0.3.0,>=0.2.0->llama-index) (4.12.3)\n",
            "Requirement already satisfied: striprtf<0.0.27,>=0.0.26 in c:\\users\\rakib hasan\\anaconda3\\lib\\site-packages (from llama-index-readers-file<0.3.0,>=0.2.0->llama-index) (0.0.26)\n",
            "Requirement already satisfied: soupsieve>1.2 in c:\\users\\rakib hasan\\anaconda3\\lib\\site-packages (from beautifulsoup4<5.0.0,>=4.12.3->llama-index-readers-file<0.3.0,>=0.2.0->llama-index) (2.3.1)\n",
            "Requirement already satisfied: llama-parse>=0.5.0 in c:\\users\\rakib hasan\\anaconda3\\lib\\site-packages (from llama-index-readers-llama-parse>=0.3.0->llama-index) (0.5.7)\n",
            "Requirement already satisfied: joblib in c:\\users\\rakib hasan\\anaconda3\\lib\\site-packages (from nltk>3.8.1->llama-index) (1.1.0)\n",
            "Requirement already satisfied: click in c:\\users\\rakib hasan\\anaconda3\\lib\\site-packages (from nltk>3.8.1->llama-index) (8.0.4)\n",
            "Requirement already satisfied: distro<2,>=1.7.0 in c:\\users\\rakib hasan\\anaconda3\\lib\\site-packages (from openai>=1.14.0->llama-index-agent-openai<0.4.0,>=0.3.4->llama-index) (1.9.0)\n",
            "Requirement already satisfied: jiter<1,>=0.4.0 in c:\\users\\rakib hasan\\anaconda3\\lib\\site-packages (from openai>=1.14.0->llama-index-agent-openai<0.4.0,>=0.3.4->llama-index) (0.6.1)\n",
            "Requirement already satisfied: pydantic-core==2.23.4 in c:\\users\\rakib hasan\\anaconda3\\lib\\site-packages (from pydantic<3.0.0,>=2.7.0->llama-index-core<0.12.0,>=0.11.17->llama-index) (2.23.4)\n",
            "Requirement already satisfied: annotated-types>=0.6.0 in c:\\users\\rakib hasan\\anaconda3\\lib\\site-packages (from pydantic<3.0.0,>=2.7.0->llama-index-core<0.12.0,>=0.11.17->llama-index) (0.7.0)\n",
            "Requirement already satisfied: charset-normalizer<4,>=2 in c:\\users\\rakib hasan\\anaconda3\\lib\\site-packages (from requests->transformers) (2.0.4)\n",
            "Requirement already satisfied: urllib3<3,>=1.21.1 in c:\\users\\rakib hasan\\anaconda3\\lib\\site-packages (from requests->transformers) (1.26.9)\n",
            "Requirement already satisfied: greenlet!=0.4.17 in c:\\users\\rakib hasan\\anaconda3\\lib\\site-packages (from SQLAlchemy[asyncio]>=1.4.49->llama-index-core<0.12.0,>=0.11.17->llama-index) (1.1.1)\n",
            "Requirement already satisfied: jinja2 in c:\\users\\rakib hasan\\anaconda3\\lib\\site-packages (from torch>=1.10.0->accelerate) (2.11.3)\n",
            "Requirement already satisfied: sympy in c:\\users\\rakib hasan\\anaconda3\\lib\\site-packages (from torch>=1.10.0->accelerate) (1.10.1)\n",
            "Requirement already satisfied: colorama in c:\\users\\rakib hasan\\anaconda3\\lib\\site-packages (from tqdm>=4.27->transformers) (0.4.4)\n",
            "Requirement already satisfied: mypy-extensions>=0.3.0 in c:\\users\\rakib hasan\\anaconda3\\lib\\site-packages (from typing-inspect>=0.8.0->llama-index-core<0.12.0,>=0.11.17->llama-index) (0.4.3)\n",
            "Requirement already satisfied: propcache>=0.2.0 in c:\\users\\rakib hasan\\anaconda3\\lib\\site-packages (from yarl<2.0,>=1.12.0->aiohttp<4.0.0,>=3.8.6->llama-index-core<0.12.0,>=0.11.17->llama-index) (0.2.0)\n",
            "Requirement already satisfied: marshmallow<4.0.0,>=3.18.0 in c:\\users\\rakib hasan\\anaconda3\\lib\\site-packages (from dataclasses-json->llama-index-core<0.12.0,>=0.11.17->llama-index) (3.22.0)\n",
            "Requirement already satisfied: MarkupSafe>=0.23 in c:\\users\\rakib hasan\\anaconda3\\lib\\site-packages (from jinja2->torch>=1.10.0->accelerate) (2.0.1)\n",
            "Requirement already satisfied: python-dateutil>=2.8.1 in c:\\users\\rakib hasan\\anaconda3\\lib\\site-packages (from pandas->llama-index-legacy<0.10.0,>=0.9.48->llama-index) (2.8.2)\n",
            "Requirement already satisfied: pytz>=2020.1 in c:\\users\\rakib hasan\\anaconda3\\lib\\site-packages (from pandas->llama-index-legacy<0.10.0,>=0.9.48->llama-index) (2021.3)\n",
            "Requirement already satisfied: six>=1.5 in c:\\users\\rakib hasan\\anaconda3\\lib\\site-packages (from python-dateutil>=2.8.1->pandas->llama-index-legacy<0.10.0,>=0.9.48->llama-index) (1.16.0)\n",
            "Requirement already satisfied: mpmath>=0.19 in c:\\users\\rakib hasan\\anaconda3\\lib\\site-packages (from sympy->torch>=1.10.0->accelerate) (1.2.1)\n"
          ]
        }
      ],
      "source": [
        "!pip install llama-index transformers accelerate bitsandbytes pypdf"
      ]
    },
    {
      "cell_type": "code",
      "execution_count": null,
      "metadata": {
        "colab": {
          "base_uri": "https://localhost:8080/"
        },
        "id": "SQQpXi3VixGG",
        "outputId": "93756d4b-81df-4c38-81e7-f6484b71d9e1"
      },
      "outputs": [
        {
          "output_type": "stream",
          "name": "stdout",
          "text": [
            "Requirement already satisfied: openpyxl in c:\\users\\rakib hasan\\anaconda3\\lib\\site-packages (3.0.9)\n",
            "Requirement already satisfied: et-xmlfile in c:\\users\\rakib hasan\\anaconda3\\lib\\site-packages (from openpyxl) (1.1.0)\n"
          ]
        }
      ],
      "source": [
        "!pip install openpyxl"
      ]
    },
    {
      "cell_type": "markdown",
      "metadata": {
        "id": "u0QK7Y68jsbm"
      },
      "source": [
        "# **LLama 3.1 pipeline**"
      ]
    },
    {
      "cell_type": "markdown",
      "source": [
        "Introducing Dynamic Output"
      ],
      "metadata": {
        "id": "FpWTkUc0_ZOV"
      }
    },
    {
      "cell_type": "code",
      "source": [
        "# Test ollama\n",
        "from llama_index.llms.ollama import Ollama\n",
        "llm = Ollama(model=\"llama3.2:1b\", request_timeout=120.0)\n",
        "response = llm.stream_complete(\"Who is Paul Graham?\")\n",
        "for r in response:\n",
        "    print(r.delta, end=\"\")"
      ],
      "metadata": {
        "colab": {
          "base_uri": "https://localhost:8080/"
        },
        "collapsed": true,
        "id": "KmrZPQPExCXH",
        "outputId": "a567681f-8042-4643-f999-3f25b7951a23"
      },
      "execution_count": 62,
      "outputs": [
        {
          "output_type": "stream",
          "name": "stdout",
          "text": [
            "Paul Graham is a well-known American computer programmer, entrepreneur, and writer. He was born in 1955 and is best known for his work as the co-founder of Y Combinator, a prominent venture capital firm that invests in startups.\n",
            "\n",
            "Graham is also a frequent speaker at tech conferences and has written several books on entrepreneurship, technology, and culture. He is particularly known for his emphasis on ideas over personalities and has been named one of the most influential people in the world by Time magazine.\n",
            "\n",
            "In addition to his work as an investor and author, Graham has also founded or co-founded several other companies, including Automattic (the company behind WordPress), 500 Startups, and Y Combinator's flagship accelerator program, the Y Combinator Demo Day.\n",
            "\n",
            "Graham is widely regarded as one of the most successful and influential entrepreneurs of his generation, and his ideas and approach have had a significant impact on the tech industry."
          ]
        }
      ]
    },
    {
      "cell_type": "markdown",
      "source": [
        "MOdel Selection"
      ],
      "metadata": {
        "id": "nguKGJVU_h2P"
      }
    },
    {
      "cell_type": "code",
      "execution_count": 26,
      "metadata": {
        "id": "wgwQHGkkjwJn"
      },
      "outputs": [],
      "source": [
        "from langchain_community.vectorstores import FAISS\n",
        "from langchain_community.embeddings import OllamaEmbeddings\n",
        "\n",
        "MODEL = \"llama3.2:1b\"\n"
      ]
    },
    {
      "cell_type": "code",
      "execution_count": 36,
      "metadata": {
        "colab": {
          "base_uri": "https://localhost:8080/"
        },
        "id": "CyqPL9bNixGR",
        "outputId": "618bbd7b-3b15-476e-d7b6-26c18b618793",
        "collapsed": true
      },
      "outputs": [
        {
          "output_type": "execute_result",
          "data": {
            "text/plain": [
              "AIMessage(content='As of my last update in 2023, the President of the United States is Joe Biden. He took office on January 20, 2021, after winning the presidential election held in 2020.', additional_kwargs={}, response_metadata={'model': 'llama3.2:1b', 'created_at': '2024-11-13T10:23:10.8193636Z', 'message': {'role': 'assistant', 'content': ''}, 'done_reason': 'stop', 'done': True, 'total_duration': 3545118000, 'load_duration': 2617242300, 'prompt_eval_count': 34, 'prompt_eval_duration': 66171000, 'eval_count': 44, 'eval_duration': 859528000}, id='run-70d18081-00e8-45c5-9540-cada43dc1419-0', usage_metadata={'input_tokens': 34, 'output_tokens': 44, 'total_tokens': 78})"
            ]
          },
          "metadata": {},
          "execution_count": 36
        }
      ],
      "source": [
        "from langchain_ollama import ChatOllama\n",
        "\n",
        "llm = ChatOllama(model=MODEL, temperature=0)\n",
        "llm.invoke(\"Who is the president of the United States?\")"
      ]
    },
    {
      "cell_type": "code",
      "source": [
        "test_template='''I want you to act as a tour guide; I want to visit {city}; Please Suggest me Pros and Cons'''\n",
        "\n",
        "prompt=PromptTemplate(\n",
        "    input_variables=['city'],\n",
        "    template=test_template\n",
        "    )\n",
        "\n",
        "prompt.format(city='dhaka')"
      ],
      "metadata": {
        "colab": {
          "base_uri": "https://localhost:8080/"
        },
        "id": "kg4xeZXlC5yz",
        "outputId": "061ddcde-c3a6-4af3-c2af-9055316134c1"
      },
      "execution_count": 55,
      "outputs": [
        {
          "output_type": "execute_result",
          "data": {
            "text/plain": [
              "'I want you to act as a tour guide; I want to visit dhaka; Please Suggest me Pros and Cons'"
            ]
          },
          "metadata": {},
          "execution_count": 55
        }
      ]
    },
    {
      "cell_type": "code",
      "source": [
        "model = ChatOllama(model=MODEL, temperature=0)"
      ],
      "metadata": {
        "id": "9IlEhe2uD_Pp"
      },
      "execution_count": 56,
      "outputs": []
    },
    {
      "cell_type": "code",
      "source": [
        "from langchain_core.output_parsers import StrOutputParser\n",
        "\n",
        "parser = StrOutputParser()\n",
        "\n",
        "chain = prompt| model | parser\n",
        "print(chain.invoke(\"Dhaka\"))"
      ],
      "metadata": {
        "colab": {
          "base_uri": "https://localhost:8080/"
        },
        "collapsed": true,
        "id": "8C1fQdocBm7O",
        "outputId": "ededb383-b1f7-41b8-cfeb-179f0610ea3b"
      },
      "execution_count": 61,
      "outputs": [
        {
          "output_type": "stream",
          "name": "stdout",
          "text": [
            "Dhaka, the capital city of Bangladesh. As your tour guide, I'd be happy to help you navigate this vibrant metropolis. Here's a comprehensive list of pros and cons to consider before planning your trip:\n",
            "\n",
            "**Pros:**\n",
            "\n",
            "1. **Rich History and Culture**: Dhaka is a treasure trove of history, with numerous ancient mosques, temples, and historical sites that showcase the city's rich cultural heritage.\n",
            "2. **Affordable Cost of Living**: Compared to other major cities in Asia, Dhaka has an affordable cost of living, making it an attractive destination for budget-conscious travelers.\n",
            "3. **Delicious Cuisine**: Bangladeshi food is a fusion of Indian, Chinese, and Middle Eastern flavors, offering a unique culinary experience that's both delicious and affordable.\n",
            "4. **Friendly People**: The people of Dhaka are known for their hospitality and warm welcomes to visitors, making it easy to make friends and connections during your stay.\n",
            "5. **Vibrant Nightlife**: Dhaka has a lively nightlife scene, with numerous bars, clubs, and restaurants that cater to all tastes and budgets.\n",
            "6. **Shopping**: The city offers a wide range of shopping options, from traditional markets to modern malls, where you can find everything from affordable clothing to luxury goods.\n",
            "7. **Accessibility**: Dhaka is well-connected to other major cities in Bangladesh and the world through its international airport and extensive public transportation network.\n",
            "\n",
            "**Cons:**\n",
            "\n",
            "1. **Traffic Congestion**: Dhaka's traffic congestion is notorious, with narrow streets and chaotic driving habits that can make navigating the city challenging.\n",
            "2. **Air Pollution**: The city suffers from poor air quality due to industrial pollution, which can be a concern for health-conscious travelers.\n",
            "3. **Crime**: As with any major city, crime can be a problem in Dhaka, particularly at night. Be sure to take necessary precautions and stay aware of your surroundings.\n",
            "4. **Waterborne Diseases**: The city's water supply is often contaminated, increasing the risk of waterborne diseases like cholera and typhoid fever.\n",
            "5. **Limited Infrastructure**: While Dhaka has made significant progress in recent years, it still lacks modern infrastructure, including reliable electricity, sanitation, and waste management systems.\n",
            "6. **Heat and Humidity**: The city's tropical climate can be sweltering during the summer months, with temperatures often reaching over 40°C (104°F).\n",
            "7. **Language Barrier**: While many Dhakans speak English, you may still encounter language barriers, particularly outside of tourist areas.\n",
            "\n",
            "**Tips for Visiting Dhaka:**\n",
            "\n",
            "1. Plan your trip during the cooler winter months (December to February) for better weather and fewer tourists.\n",
            "2. Research local customs and dress modestly when visiting mosques or temples.\n",
            "3. Be prepared for crowds and long lines at popular attractions like the Lalbagh Fort and the National Museum.\n",
            "4. Use reputable taxi services or ride-hailing apps to avoid scams and ensure safe transportation.\n",
            "5. Stay hydrated and take breaks in air-conditioned spaces to cope with the heat.\n",
            "\n",
            "Now that you've seen the pros and cons, I'd be happy to help you plan your trip to Dhaka! What are your interests? Are there any specific attractions or activities you'd like to prioritize?\n"
          ]
        }
      ]
    },
    {
      "cell_type": "code",
      "source": [],
      "metadata": {
        "id": "3g6NqSrhJ_jS"
      },
      "execution_count": null,
      "outputs": []
    }
  ],
  "metadata": {
    "colab": {
      "provenance": [],
      "gpuType": "T4"
    },
    "kernelspec": {
      "display_name": "Python 3",
      "name": "python3"
    },
    "language_info": {
      "name": "python"
    },
    "accelerator": "GPU"
  },
  "nbformat": 4,
  "nbformat_minor": 0
}